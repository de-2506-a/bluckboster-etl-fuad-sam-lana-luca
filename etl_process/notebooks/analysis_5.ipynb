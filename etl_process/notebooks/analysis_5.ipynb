{
 "cells": [
  {
   "cell_type": "markdown",
   "id": "4499c5d7",
   "metadata": {},
   "source": [
    "# Customer and store location data analysis"
   ]
  },
  {
   "cell_type": "code",
   "execution_count": 10,
   "id": "583c6ee5",
   "metadata": {},
   "outputs": [],
   "source": [
    "import pandas as pd\n",
    "from src.utils.db_engine import db_engine"
   ]
  },
  {
   "cell_type": "markdown",
   "id": "4272e0b7",
   "metadata": {},
   "source": [
    "### Why city and country do most and least customers live in? How global is the BluckBoster business?"
   ]
  },
  {
   "cell_type": "code",
   "execution_count": 11,
   "id": "fdb6d49d",
   "metadata": {},
   "outputs": [
    {
     "data": {
      "text/html": [
       "<div>\n",
       "<style scoped>\n",
       "    .dataframe tbody tr th:only-of-type {\n",
       "        vertical-align: middle;\n",
       "    }\n",
       "\n",
       "    .dataframe tbody tr th {\n",
       "        vertical-align: top;\n",
       "    }\n",
       "\n",
       "    .dataframe thead th {\n",
       "        text-align: right;\n",
       "    }\n",
       "</style>\n",
       "<table border=\"1\" class=\"dataframe\">\n",
       "  <thead>\n",
       "    <tr style=\"text-align: right;\">\n",
       "      <th></th>\n",
       "      <th>total_customers</th>\n",
       "      <th>city</th>\n",
       "      <th>country</th>\n",
       "    </tr>\n",
       "  </thead>\n",
       "  <tbody>\n",
       "    <tr>\n",
       "      <th>0</th>\n",
       "      <td>3</td>\n",
       "      <td>None</td>\n",
       "      <td>None</td>\n",
       "    </tr>\n",
       "    <tr>\n",
       "      <th>1</th>\n",
       "      <td>2</td>\n",
       "      <td>London</td>\n",
       "      <td>United Kingdom</td>\n",
       "    </tr>\n",
       "    <tr>\n",
       "      <th>2</th>\n",
       "      <td>2</td>\n",
       "      <td>Aurora</td>\n",
       "      <td>United States</td>\n",
       "    </tr>\n",
       "    <tr>\n",
       "      <th>3</th>\n",
       "      <td>1</td>\n",
       "      <td>Kabul</td>\n",
       "      <td>Afghanistan</td>\n",
       "    </tr>\n",
       "    <tr>\n",
       "      <th>4</th>\n",
       "      <td>1</td>\n",
       "      <td>Batna</td>\n",
       "      <td>Algeria</td>\n",
       "    </tr>\n",
       "    <tr>\n",
       "      <th>...</th>\n",
       "      <td>...</td>\n",
       "      <td>...</td>\n",
       "      <td>...</td>\n",
       "    </tr>\n",
       "    <tr>\n",
       "      <th>590</th>\n",
       "      <td>1</td>\n",
       "      <td>Sanaa</td>\n",
       "      <td>Yemen</td>\n",
       "    </tr>\n",
       "    <tr>\n",
       "      <th>591</th>\n",
       "      <td>1</td>\n",
       "      <td>Taizz</td>\n",
       "      <td>Yemen</td>\n",
       "    </tr>\n",
       "    <tr>\n",
       "      <th>592</th>\n",
       "      <td>1</td>\n",
       "      <td>Kragujevac</td>\n",
       "      <td>Yugoslavia</td>\n",
       "    </tr>\n",
       "    <tr>\n",
       "      <th>593</th>\n",
       "      <td>1</td>\n",
       "      <td>Novi Sad</td>\n",
       "      <td>Yugoslavia</td>\n",
       "    </tr>\n",
       "    <tr>\n",
       "      <th>594</th>\n",
       "      <td>1</td>\n",
       "      <td>Kitwe</td>\n",
       "      <td>Zambia</td>\n",
       "    </tr>\n",
       "  </tbody>\n",
       "</table>\n",
       "<p>595 rows × 3 columns</p>\n",
       "</div>"
      ],
      "text/plain": [
       "     total_customers        city         country\n",
       "0                  3        None            None\n",
       "1                  2      London  United Kingdom\n",
       "2                  2      Aurora   United States\n",
       "3                  1       Kabul     Afghanistan\n",
       "4                  1       Batna         Algeria\n",
       "..               ...         ...             ...\n",
       "590                1       Sanaa           Yemen\n",
       "591                1       Taizz           Yemen\n",
       "592                1  Kragujevac      Yugoslavia\n",
       "593                1    Novi Sad      Yugoslavia\n",
       "594                1       Kitwe          Zambia\n",
       "\n",
       "[595 rows x 3 columns]"
      ]
     },
     "execution_count": 11,
     "metadata": {},
     "output_type": "execute_result"
    }
   ],
   "source": [
    "# create a sql engine\n",
    "engine = db_engine()\n",
    "\n",
    "# write a query\n",
    "query = ''' \n",
    "            SELECT \n",
    "                COUNT(customer.customer_id) AS total_customers, \n",
    "                city.city, \n",
    "                country.country\n",
    "            FROM \n",
    "                customer\n",
    "            LEFT JOIN \n",
    "                address\n",
    "            ON \n",
    "                customer.address_id = address.address_id\n",
    "            LEFT JOIN\n",
    "                city\n",
    "            ON\n",
    "                address.city_id = city.city_id\n",
    "            LEFT JOIN\n",
    "                country\n",
    "            ON\n",
    "                city.country_id = country.country_id\n",
    "            GROUP BY\n",
    "                city.city, country.country\n",
    "            ORDER BY\n",
    "                total_customers DESC,\n",
    "                country,\n",
    "                city\n",
    "            ;         \n",
    "        '''\n",
    "# create a pandas dataframe using the engine and query\n",
    "df = pd.read_sql(query, engine)\n",
    "\n",
    "# print df\n",
    "df"
   ]
  },
  {
   "cell_type": "code",
   "execution_count": 12,
   "id": "9ac10839",
   "metadata": {},
   "outputs": [
    {
     "data": {
      "text/plain": [
       "'India'"
      ]
     },
     "execution_count": 12,
     "metadata": {},
     "output_type": "execute_result"
    }
   ],
   "source": [
    "# which country appears the most on the list? this means we operate in the most cities in this country out of any other country\n",
    "\n",
    "df['country'].mode()[0]"
   ]
  },
  {
   "cell_type": "code",
   "execution_count": 13,
   "id": "17ef7302",
   "metadata": {},
   "outputs": [
    {
     "data": {
      "text/plain": [
       "country\n",
       "India                   60\n",
       "China                   52\n",
       "United States           35\n",
       "Japan                   30\n",
       "Mexico                  30\n",
       "                        ..\n",
       "Tunisia                  1\n",
       "Turkmenistan             1\n",
       "Tuvalu                   1\n",
       "Virgin Islands, U.S.     1\n",
       "Zambia                   1\n",
       "Name: total_customers, Length: 108, dtype: int64"
      ]
     },
     "execution_count": 13,
     "metadata": {},
     "output_type": "execute_result"
    }
   ],
   "source": [
    "# which country has the most and least customers?\n",
    "\n",
    "df.groupby('country')['total_customers'].sum().sort_values(ascending=False)"
   ]
  },
  {
   "cell_type": "code",
   "execution_count": 14,
   "id": "6d36612a",
   "metadata": {},
   "outputs": [
    {
     "data": {
      "text/plain": [
       "109"
      ]
     },
     "execution_count": 14,
     "metadata": {},
     "output_type": "execute_result"
    }
   ],
   "source": [
    "# how many countries does BluckBoster operate in?\n",
    "\n",
    "len(df['country'].unique())"
   ]
  },
  {
   "cell_type": "markdown",
   "id": "a5a802a0",
   "metadata": {},
   "source": [
    "## Investigate null values"
   ]
  },
  {
   "cell_type": "code",
   "execution_count": 15,
   "id": "2943a9f9",
   "metadata": {},
   "outputs": [
    {
     "data": {
      "text/plain": [
       "customer_id    0\n",
       "store_id       0\n",
       "first_name     0\n",
       "last_name      0\n",
       "email          0\n",
       "address_id     3\n",
       "activebool     0\n",
       "create_date    0\n",
       "last_update    0\n",
       "active         0\n",
       "dtype: int64"
      ]
     },
     "execution_count": 15,
     "metadata": {},
     "output_type": "execute_result"
    }
   ],
   "source": [
    "# write a query\n",
    "query = ''' \n",
    "            SELECT \n",
    "                *\n",
    "            FROM \n",
    "                customer\n",
    "            ;         \n",
    "        '''\n",
    "# create a pandas dataframe using the engine and query\n",
    "df = pd.read_sql(query, engine)\n",
    "\n",
    "# print df\n",
    "df.isnull().sum()"
   ]
  },
  {
   "cell_type": "code",
   "execution_count": 16,
   "id": "dcb12f96",
   "metadata": {},
   "outputs": [
    {
     "data": {
      "text/plain": [
       "address_id     0\n",
       "address        0\n",
       "address2       4\n",
       "district       0\n",
       "city_id        0\n",
       "postal_code    4\n",
       "phone          0\n",
       "last_update    0\n",
       "dtype: int64"
      ]
     },
     "execution_count": 16,
     "metadata": {},
     "output_type": "execute_result"
    }
   ],
   "source": [
    "# write a query\n",
    "query = ''' \n",
    "            SELECT \n",
    "                *\n",
    "            FROM \n",
    "                address\n",
    "            ;         \n",
    "        '''\n",
    "# create a pandas dataframe using the engine and query\n",
    "df = pd.read_sql(query, engine)\n",
    "\n",
    "# print df\n",
    "df.isnull().sum()"
   ]
  },
  {
   "cell_type": "code",
   "execution_count": 17,
   "id": "15b7409c",
   "metadata": {},
   "outputs": [
    {
     "data": {
      "text/plain": [
       "city_id        0\n",
       "city           0\n",
       "country_id     0\n",
       "last_update    0\n",
       "dtype: int64"
      ]
     },
     "execution_count": 17,
     "metadata": {},
     "output_type": "execute_result"
    }
   ],
   "source": [
    "# write a query\n",
    "query = ''' \n",
    "            SELECT \n",
    "                *\n",
    "            FROM \n",
    "                city\n",
    "            ;         \n",
    "        '''\n",
    "# create a pandas dataframe using the engine and query\n",
    "df = pd.read_sql(query, engine)\n",
    "\n",
    "# print df\n",
    "df.isnull().sum()"
   ]
  },
  {
   "cell_type": "code",
   "execution_count": 18,
   "id": "16b9696b",
   "metadata": {},
   "outputs": [
    {
     "data": {
      "text/plain": [
       "country_id     0\n",
       "country        0\n",
       "last_update    0\n",
       "dtype: int64"
      ]
     },
     "execution_count": 18,
     "metadata": {},
     "output_type": "execute_result"
    }
   ],
   "source": [
    "# write a query\n",
    "query = ''' \n",
    "            SELECT \n",
    "                *\n",
    "            FROM \n",
    "                country\n",
    "            ;         \n",
    "        '''\n",
    "# create a pandas dataframe using the engine and query\n",
    "df = pd.read_sql(query, engine)\n",
    "\n",
    "# print df\n",
    "df.isnull().sum()"
   ]
  }
 ],
 "metadata": {
  "kernelspec": {
   "display_name": "venv",
   "language": "python",
   "name": "python3"
  },
  "language_info": {
   "codemirror_mode": {
    "name": "ipython",
    "version": 3
   },
   "file_extension": ".py",
   "mimetype": "text/x-python",
   "name": "python",
   "nbconvert_exporter": "python",
   "pygments_lexer": "ipython3",
   "version": "3.12.3"
  }
 },
 "nbformat": 4,
 "nbformat_minor": 5
}
